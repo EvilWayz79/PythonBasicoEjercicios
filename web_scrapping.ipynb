{
 "cells": [
  {
   "cell_type": "markdown",
   "metadata": {},
   "source": [
    "Simple web scrapping example\n",
    "\n",
    "--------------------------------- STEPS -------------------------------------------------\n",
    "\n",
    "* Libraries an packages bs4 \n",
    "* Set URL\n",
    "* Make it soup\n",
    "* Find in the html code the data tags you want to find, in this case table with a class\n",
    "* with the desired table get the titles\n",
    "* set the pandas df with the column names\n",
    "* get the data\n",
    "* put the data into the dataframe\n",
    "-----------------------------------------------------------------------------------------\n",
    "\n"
   ]
  },
  {
   "cell_type": "code",
   "execution_count": 48,
   "metadata": {},
   "outputs": [],
   "source": [
    "from bs4 import BeautifulSoup\n",
    "import requests"
   ]
  },
  {
   "cell_type": "code",
   "execution_count": 49,
   "metadata": {},
   "outputs": [],
   "source": [
    "url = 'https://en.wikipedia.org/wiki/List_of_largest_companies_in_the_United_States_by_revenue'\n",
    "page = requests.get(url)\n",
    "soup = BeautifulSoup(page.text, 'html')\n",
    "#\n",
    "# print(soup)"
   ]
  },
  {
   "cell_type": "code",
   "execution_count": 50,
   "metadata": {},
   "outputs": [],
   "source": [
    "tableA = soup.find_all('table')[0]"
   ]
  },
  {
   "cell_type": "code",
   "execution_count": 51,
   "metadata": {},
   "outputs": [],
   "source": [
    "tableB = soup.find('table', class_= 'wikitable sortable')"
   ]
  },
  {
   "cell_type": "code",
   "execution_count": 52,
   "metadata": {},
   "outputs": [],
   "source": [
    "world_titles = tableB.find_all('th')"
   ]
  },
  {
   "cell_type": "code",
   "execution_count": 53,
   "metadata": {},
   "outputs": [
    {
     "name": "stdout",
     "output_type": "stream",
     "text": [
      "['Rank', 'Name', 'Industry', 'Revenue (USD millions)', 'Revenue growth', 'Employees', 'Headquarters']\n"
     ]
    }
   ],
   "source": [
    "#Notice the use of strip in the inline for to get rid of the \\n\n",
    "world_table_titles = [title.text.strip() for title in world_titles]\n",
    "world_table_titles = world_table_titles\n",
    "print(world_table_titles)"
   ]
  },
  {
   "cell_type": "code",
   "execution_count": 54,
   "metadata": {},
   "outputs": [],
   "source": [
    "import pandas as pd"
   ]
  },
  {
   "cell_type": "code",
   "execution_count": 55,
   "metadata": {},
   "outputs": [
    {
     "data": {
      "text/html": [
       "<div>\n",
       "<style scoped>\n",
       "    .dataframe tbody tr th:only-of-type {\n",
       "        vertical-align: middle;\n",
       "    }\n",
       "\n",
       "    .dataframe tbody tr th {\n",
       "        vertical-align: top;\n",
       "    }\n",
       "\n",
       "    .dataframe thead th {\n",
       "        text-align: right;\n",
       "    }\n",
       "</style>\n",
       "<table border=\"1\" class=\"dataframe\">\n",
       "  <thead>\n",
       "    <tr style=\"text-align: right;\">\n",
       "      <th></th>\n",
       "      <th>Rank</th>\n",
       "      <th>Name</th>\n",
       "      <th>Industry</th>\n",
       "      <th>Revenue (USD millions)</th>\n",
       "      <th>Revenue growth</th>\n",
       "      <th>Employees</th>\n",
       "      <th>Headquarters</th>\n",
       "    </tr>\n",
       "  </thead>\n",
       "  <tbody>\n",
       "  </tbody>\n",
       "</table>\n",
       "</div>"
      ],
      "text/plain": [
       "Empty DataFrame\n",
       "Columns: [Rank, Name, Industry, Revenue (USD millions), Revenue growth, Employees, Headquarters]\n",
       "Index: []"
      ]
     },
     "execution_count": 55,
     "metadata": {},
     "output_type": "execute_result"
    }
   ],
   "source": [
    "df = pd.DataFrame(columns = world_table_titles)\n",
    "df"
   ]
  },
  {
   "cell_type": "code",
   "execution_count": 56,
   "metadata": {},
   "outputs": [],
   "source": [
    "column_data = tableB.find_all('tr')"
   ]
  },
  {
   "cell_type": "code",
   "execution_count": 57,
   "metadata": {},
   "outputs": [],
   "source": [
    "for row in column_data[1:]: # iterate all tr\n",
    "    row_data = row.find_all('td') # get all td's in tr\n",
    "    individual_row_data = [data.text.strip() for data in row_data] # put all instances of td in a list of the tr\n",
    "    \n",
    "    length = len(df) # get the current length of the dataframe\n",
    "    # using loc you can access the datarow in the dataframe where you want to put your data\n",
    "    # and then for the next iteration it will be added on. Neat!\n",
    "    df.loc[length] = individual_row_data \n"
   ]
  },
  {
   "cell_type": "code",
   "execution_count": 58,
   "metadata": {},
   "outputs": [
    {
     "data": {
      "text/html": [
       "<div>\n",
       "<style scoped>\n",
       "    .dataframe tbody tr th:only-of-type {\n",
       "        vertical-align: middle;\n",
       "    }\n",
       "\n",
       "    .dataframe tbody tr th {\n",
       "        vertical-align: top;\n",
       "    }\n",
       "\n",
       "    .dataframe thead th {\n",
       "        text-align: right;\n",
       "    }\n",
       "</style>\n",
       "<table border=\"1\" class=\"dataframe\">\n",
       "  <thead>\n",
       "    <tr style=\"text-align: right;\">\n",
       "      <th></th>\n",
       "      <th>Rank</th>\n",
       "      <th>Name</th>\n",
       "      <th>Industry</th>\n",
       "      <th>Revenue (USD millions)</th>\n",
       "      <th>Revenue growth</th>\n",
       "      <th>Employees</th>\n",
       "      <th>Headquarters</th>\n",
       "    </tr>\n",
       "  </thead>\n",
       "  <tbody>\n",
       "    <tr>\n",
       "      <th>0</th>\n",
       "      <td>1</td>\n",
       "      <td>Walmart</td>\n",
       "      <td>Retail</td>\n",
       "      <td>611,289</td>\n",
       "      <td>6.7%</td>\n",
       "      <td>2,100,000</td>\n",
       "      <td>Bentonville, Arkansas</td>\n",
       "    </tr>\n",
       "    <tr>\n",
       "      <th>1</th>\n",
       "      <td>2</td>\n",
       "      <td>Amazon</td>\n",
       "      <td>Retail and cloud computing</td>\n",
       "      <td>513,983</td>\n",
       "      <td>9.4%</td>\n",
       "      <td>1,540,000</td>\n",
       "      <td>Seattle, Washington</td>\n",
       "    </tr>\n",
       "    <tr>\n",
       "      <th>2</th>\n",
       "      <td>3</td>\n",
       "      <td>ExxonMobil</td>\n",
       "      <td>Petroleum industry</td>\n",
       "      <td>413,680</td>\n",
       "      <td>44.8%</td>\n",
       "      <td>62,000</td>\n",
       "      <td>Spring, Texas</td>\n",
       "    </tr>\n",
       "    <tr>\n",
       "      <th>3</th>\n",
       "      <td>4</td>\n",
       "      <td>Apple</td>\n",
       "      <td>Electronics industry</td>\n",
       "      <td>394,328</td>\n",
       "      <td>7.8%</td>\n",
       "      <td>164,000</td>\n",
       "      <td>Cupertino, California</td>\n",
       "    </tr>\n",
       "    <tr>\n",
       "      <th>4</th>\n",
       "      <td>5</td>\n",
       "      <td>UnitedHealth Group</td>\n",
       "      <td>Healthcare</td>\n",
       "      <td>324,162</td>\n",
       "      <td>12.7%</td>\n",
       "      <td>400,000</td>\n",
       "      <td>Minnetonka, Minnesota</td>\n",
       "    </tr>\n",
       "    <tr>\n",
       "      <th>...</th>\n",
       "      <td>...</td>\n",
       "      <td>...</td>\n",
       "      <td>...</td>\n",
       "      <td>...</td>\n",
       "      <td>...</td>\n",
       "      <td>...</td>\n",
       "      <td>...</td>\n",
       "    </tr>\n",
       "    <tr>\n",
       "      <th>95</th>\n",
       "      <td>96</td>\n",
       "      <td>Best Buy</td>\n",
       "      <td>Retail</td>\n",
       "      <td>46,298</td>\n",
       "      <td>10.6%</td>\n",
       "      <td>71,100</td>\n",
       "      <td>Richfield, Minnesota</td>\n",
       "    </tr>\n",
       "    <tr>\n",
       "      <th>96</th>\n",
       "      <td>97</td>\n",
       "      <td>Bristol-Myers Squibb</td>\n",
       "      <td>Pharmaceutical industry</td>\n",
       "      <td>46,159</td>\n",
       "      <td>0.5%</td>\n",
       "      <td>34,300</td>\n",
       "      <td>New York City, New York</td>\n",
       "    </tr>\n",
       "    <tr>\n",
       "      <th>97</th>\n",
       "      <td>98</td>\n",
       "      <td>United Airlines</td>\n",
       "      <td>Airline</td>\n",
       "      <td>44,955</td>\n",
       "      <td>82.5%</td>\n",
       "      <td>92,795</td>\n",
       "      <td>Chicago, Illinois</td>\n",
       "    </tr>\n",
       "    <tr>\n",
       "      <th>98</th>\n",
       "      <td>99</td>\n",
       "      <td>Thermo Fisher Scientific</td>\n",
       "      <td>Laboratory instruments</td>\n",
       "      <td>44,915</td>\n",
       "      <td>14.5%</td>\n",
       "      <td>130,000</td>\n",
       "      <td>Waltham, Massachusetts</td>\n",
       "    </tr>\n",
       "    <tr>\n",
       "      <th>99</th>\n",
       "      <td>100</td>\n",
       "      <td>Qualcomm</td>\n",
       "      <td>Technology</td>\n",
       "      <td>44,200</td>\n",
       "      <td>31.7%</td>\n",
       "      <td>51,000</td>\n",
       "      <td>San Diego, California</td>\n",
       "    </tr>\n",
       "  </tbody>\n",
       "</table>\n",
       "<p>100 rows × 7 columns</p>\n",
       "</div>"
      ],
      "text/plain": [
       "   Rank                      Name                    Industry  \\\n",
       "0     1                   Walmart                      Retail   \n",
       "1     2                    Amazon  Retail and cloud computing   \n",
       "2     3                ExxonMobil          Petroleum industry   \n",
       "3     4                     Apple        Electronics industry   \n",
       "4     5        UnitedHealth Group                  Healthcare   \n",
       "..  ...                       ...                         ...   \n",
       "95   96                  Best Buy                      Retail   \n",
       "96   97      Bristol-Myers Squibb     Pharmaceutical industry   \n",
       "97   98           United Airlines                     Airline   \n",
       "98   99  Thermo Fisher Scientific      Laboratory instruments   \n",
       "99  100                  Qualcomm                  Technology   \n",
       "\n",
       "   Revenue (USD millions) Revenue growth  Employees             Headquarters  \n",
       "0                 611,289           6.7%  2,100,000    Bentonville, Arkansas  \n",
       "1                 513,983           9.4%  1,540,000      Seattle, Washington  \n",
       "2                 413,680          44.8%     62,000            Spring, Texas  \n",
       "3                 394,328           7.8%    164,000    Cupertino, California  \n",
       "4                 324,162          12.7%    400,000    Minnetonka, Minnesota  \n",
       "..                    ...            ...        ...                      ...  \n",
       "95                 46,298          10.6%     71,100     Richfield, Minnesota  \n",
       "96                 46,159           0.5%     34,300  New York City, New York  \n",
       "97                 44,955          82.5%     92,795        Chicago, Illinois  \n",
       "98                 44,915          14.5%    130,000   Waltham, Massachusetts  \n",
       "99                 44,200          31.7%     51,000    San Diego, California  \n",
       "\n",
       "[100 rows x 7 columns]"
      ]
     },
     "execution_count": 58,
     "metadata": {},
     "output_type": "execute_result"
    }
   ],
   "source": [
    "df"
   ]
  },
  {
   "cell_type": "code",
   "execution_count": 61,
   "metadata": {},
   "outputs": [],
   "source": [
    "#create output directory if not existent\n",
    "import os\n",
    "outname = 'Companies.csv'\n",
    "outdir = '.output_data/'\n",
    "\n",
    "''' ENABLE IF YOU WANT TO SAVE THE FILE\n",
    "if not os.path.exists(outdir):\n",
    "    os.mkdir(outdir)\n",
    "full_name = os.path.join(outdir, outname)\n",
    "'''\n",
    "\n",
    "full_name = outdir + outname\n",
    "\n",
    "df.to_csv(full_name, index = False) # index = False so it doesn't export the index for every row"
   ]
  },
  {
   "cell_type": "markdown",
   "metadata": {},
   "source": [
    "Let's make it more interesting, now I want to know if there's a corelation between number of employees and revenue"
   ]
  },
  {
   "cell_type": "code",
   "execution_count": 62,
   "metadata": {},
   "outputs": [],
   "source": [
    "from sklearn.model_selection import train_test_split"
   ]
  },
  {
   "cell_type": "code",
   "execution_count": 63,
   "metadata": {},
   "outputs": [
    {
     "name": "stdout",
     "output_type": "stream",
     "text": [
      "0     611289\n",
      "1     513983\n",
      "2     413680\n",
      "3     394328\n",
      "4     324162\n",
      "       ...  \n",
      "95     46298\n",
      "96     46159\n",
      "97     44955\n",
      "98     44915\n",
      "99     44200\n",
      "Name: Revenue (USD millions), Length: 100, dtype: int32\n",
      "0     2100000\n",
      "1     1540000\n",
      "2       62000\n",
      "3      164000\n",
      "4      400000\n",
      "       ...   \n",
      "95      71100\n",
      "96      34300\n",
      "97      92795\n",
      "98     130000\n",
      "99      51000\n",
      "Name: Employees, Length: 100, dtype: int32\n"
     ]
    }
   ],
   "source": [
    "import re\n",
    "\n",
    "# Function to clean the data\n",
    "def clean_data(value):\n",
    "    # Remove commas\n",
    "    value = value.replace(',', '')\n",
    "    # Remove square brackets and anything inside them\n",
    "    value = re.sub(r'\\[.*\\]', '', value)\n",
    "    return value\n",
    "\n",
    "#change literal numbers to int\n",
    "# Apply the function to the columns\n",
    "df['Revenue (USD millions)'] = df['Revenue (USD millions)'].astype(str).apply(clean_data).astype(float).astype(int)\n",
    "df['Employees'] = df['Employees'].astype(str).apply(clean_data).astype(float).astype(int)\n",
    "\n",
    "print(df['Revenue (USD millions)'])\n",
    "print(df['Employees'])"
   ]
  },
  {
   "cell_type": "code",
   "execution_count": 64,
   "metadata": {},
   "outputs": [
    {
     "name": "stdout",
     "output_type": "stream",
     "text": [
      "0     2100000\n",
      "1     1540000\n",
      "2       62000\n",
      "3      164000\n",
      "4      400000\n",
      "       ...   \n",
      "95      71100\n",
      "96      34300\n",
      "97      92795\n",
      "98     130000\n",
      "99      51000\n",
      "Name: Employees, Length: 100, dtype: int32\n",
      "0     611289\n",
      "1     513983\n",
      "2     413680\n",
      "3     394328\n",
      "4     324162\n",
      "       ...  \n",
      "95     46298\n",
      "96     46159\n",
      "97     44955\n",
      "98     44915\n",
      "99     44200\n",
      "Name: Revenue (USD millions), Length: 100, dtype: int32\n"
     ]
    }
   ],
   "source": [
    "# separate target from data\n",
    "\n",
    "\n",
    "X = pd.to_numeric( df['Employees'], errors='coerce' ) #independent variable\n",
    "y = pd.to_numeric( df['Revenue (USD millions)'], errors='coerce' ) #dependent variable\n",
    "\n",
    "print(X)\n",
    "print(y)\n"
   ]
  },
  {
   "cell_type": "code",
   "execution_count": 65,
   "metadata": {},
   "outputs": [
    {
     "name": "stdout",
     "output_type": "stream",
     "text": [
      "                              OLS Regression Results                              \n",
      "==================================================================================\n",
      "Dep. Variable:     Revenue (USD millions)   R-squared:                       0.412\n",
      "Model:                                OLS   Adj. R-squared:                  0.406\n",
      "Method:                     Least Squares   F-statistic:                     68.71\n",
      "Date:                    Tue, 13 Feb 2024   Prob (F-statistic):           6.10e-13\n",
      "Time:                            14:53:05   Log-Likelihood:                -1267.0\n",
      "No. Observations:                     100   AIC:                             2538.\n",
      "Df Residuals:                          98   BIC:                             2543.\n",
      "Df Model:                               1                                         \n",
      "Covariance Type:                nonrobust                                         \n",
      "==============================================================================\n",
      "                 coef    std err          t      P>|t|      [0.025      0.975]\n",
      "------------------------------------------------------------------------------\n",
      "const       7.749e+04   9156.717      8.463      0.000    5.93e+04    9.57e+04\n",
      "Employees      0.2384      0.029      8.289      0.000       0.181       0.296\n",
      "==============================================================================\n",
      "Omnibus:                       45.333   Durbin-Watson:                   0.376\n",
      "Prob(Omnibus):                  0.000   Jarque-Bera (JB):              105.574\n",
      "Skew:                           1.752   Prob(JB):                     1.19e-23\n",
      "Kurtosis:                       6.615   Cond. No.                     3.75e+05\n",
      "==============================================================================\n",
      "\n",
      "Notes:\n",
      "[1] Standard Errors assume that the covariance matrix of the errors is correctly specified.\n",
      "[2] The condition number is large, 3.75e+05. This might indicate that there are\n",
      "strong multicollinearity or other numerical problems.\n"
     ]
    }
   ],
   "source": [
    "import statsmodels.api as sm\n",
    "\n",
    "# training and test\n",
    "X_train, X_test, y_train, y_test = train_test_split(X, y, test_size=0.2, random_state=42)\n",
    "\n",
    "# add constant to the independent variable\n",
    "X = sm.add_constant(X)\n",
    "\n",
    "# perform regession\n",
    "model = sm.OLS(y, X)\n",
    "results = model.fit()\n",
    "\n",
    "#print statistics\n",
    "print(results.summary())\n"
   ]
  },
  {
   "cell_type": "markdown",
   "metadata": {},
   "source": [
    "Based on the provided data, I can gather the following conclusions:\n",
    "* R-squared: The R-squared value is 0.412, which means that approximately 41.2% of the variation in ‘Revenue (USD millions)’ can be explained by the ‘Employees’ variable.\n",
    "* F-statistic: The F-statistic is 68.71, and the associated p-value is very small (6.10e-13), indicating that the ‘Employees’ variable is statistically significant in      predicting ‘Revenue (USD millions)’.\n",
    "* Coefficients: The coefficient for ‘Employees’ is 0.2384, suggesting that for each additional employee, the ‘Revenue (USD millions)’ increases by approximately 0.2384 units, holding all else constant. The constant term (intercept) is 7.749e+04.\n",
    "* Omnibus/Prob(Omnibus): The Omnibus test is a test of the skewness and kurtosis of the residual. The Prob(Omnibus) is 0.000, suggesting the residuals are not normally distributed.\n",
    "* Condition Number: The condition number is large, 3.75e+05. This might indicate that there are strong multicollinearity or other numerical problems.\n"
   ]
  },
  {
   "cell_type": "code",
   "execution_count": null,
   "metadata": {},
   "outputs": [],
   "source": []
  },
  {
   "cell_type": "code",
   "execution_count": null,
   "metadata": {},
   "outputs": [],
   "source": []
  },
  {
   "cell_type": "code",
   "execution_count": null,
   "metadata": {},
   "outputs": [],
   "source": []
  },
  {
   "cell_type": "code",
   "execution_count": null,
   "metadata": {},
   "outputs": [],
   "source": []
  }
 ],
 "metadata": {
  "kernelspec": {
   "display_name": "Python 3",
   "language": "python",
   "name": "python3"
  },
  "language_info": {
   "codemirror_mode": {
    "name": "ipython",
    "version": 3
   },
   "file_extension": ".py",
   "mimetype": "text/x-python",
   "name": "python",
   "nbconvert_exporter": "python",
   "pygments_lexer": "ipython3",
   "version": "3.12.1"
  }
 },
 "nbformat": 4,
 "nbformat_minor": 2
}
